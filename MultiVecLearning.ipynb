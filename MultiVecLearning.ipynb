{
  "nbformat": 4,
  "nbformat_minor": 0,
  "metadata": {
    "colab": {
      "name": "MultiVecLearning.ipynb",
      "provenance": [],
      "collapsed_sections": [],
      "machine_shape": "hm",
      "include_colab_link": true
    },
    "kernelspec": {
      "name": "python3",
      "display_name": "Python 3"
    },
    "accelerator": "GPU"
  },
  "cells": [
    {
      "cell_type": "markdown",
      "metadata": {
        "id": "view-in-github",
        "colab_type": "text"
      },
      "source": [
        "<a href=\"https://colab.research.google.com/github/BoukeliaAbdelbasset/NLPDeepQSAR/blob/master/MultiVecLearning.ipynb\" target=\"_parent\"><img src=\"https://colab.research.google.com/assets/colab-badge.svg\" alt=\"Open In Colab\"/></a>"
      ]
    },
    {
      "cell_type": "code",
      "metadata": {
        "id": "HsLB5-30YMct",
        "colab_type": "code",
        "colab": {}
      },
      "source": [
        "cd /content/drive/My Drive/KhalidNew"
      ],
      "execution_count": 0,
      "outputs": []
    },
    {
      "cell_type": "code",
      "metadata": {
        "id": "BbkCji97X9vm",
        "colab_type": "code",
        "colab": {}
      },
      "source": [
        "from google.colab import drive\n",
        "drive.mount('/content/drive')"
      ],
      "execution_count": 0,
      "outputs": []
    },
    {
      "cell_type": "code",
      "metadata": {
        "id": "QP0Qm-jGKBR5",
        "colab_type": "code",
        "colab": {}
      },
      "source": [
        "import biovec\n",
        "import os\n",
        "pv = biovec.models.ProtVec('allData.fasta', corpus_fname=\"corpus\",n=3,size=1024,workers=1)\n",
        "pv.save(\"model\")\n",
        " "
      ],
      "execution_count": 0,
      "outputs": []
    },
    {
      "cell_type": "code",
      "metadata": {
        "id": "kI33axCGaLew",
        "colab_type": "code",
        "colab": {}
      },
      "source": [
        "pip install biopython"
      ],
      "execution_count": 0,
      "outputs": []
    },
    {
      "cell_type": "code",
      "metadata": {
        "id": "mBiKkl0aP2er",
        "colab_type": "code",
        "colab": {}
      },
      "source": [
        "import pandas as pd\n",
        "import os\n",
        "i = 1912226\n",
        "for f in os.listdir(\"allData\"):\n",
        "  file=open(\"allData/\"+f)\n",
        "  file2 = open(\"Transformed/\"+f,\"w\")\n",
        "  for line in file:\n",
        "    o = \">\"+str(i)+\"@\"+line.split(';')[1]+\"\"\n",
        "    sequence = o+'\\n'+line.split(';')[0]+'\\n'\n",
        "    file2.writelines(sequence)\n",
        "    file2.flush()\n",
        "    i = i+1"
      ],
      "execution_count": 0,
      "outputs": []
    },
    {
      "cell_type": "code",
      "metadata": {
        "id": "MEnqRmaIsCSl",
        "colab_type": "code",
        "colab": {}
      },
      "source": [
        "import os \n",
        "i = 0;\n",
        "file2 = open('allData.fasta','w')\n",
        "for line in open('allData.csv'):\n",
        "  o = \">\"+str(i)+\"@\"+line.split(';')[1]+\"\"\n",
        "  sequence = o+'\\n'+line.split(';')[0]+'\\n'\n",
        "  file2.writelines(sequence)\n",
        "  file2.flush()\n",
        "  i = i+1"
      ],
      "execution_count": 0,
      "outputs": []
    },
    {
      "cell_type": "code",
      "metadata": {
        "id": "VAHOt_zQOQ26",
        "colab_type": "code",
        "colab": {}
      },
      "source": [
        "import sys\n",
        "import pandas as pd\n",
        "import biovec\n",
        "import os\n",
        "import numpy as np\n",
        "from Bio import SeqIO\n",
        "pv = biovec.models.load_protvec('model')\n",
        "for f in os.listdir(\"Transformed\"):\n",
        "    file = open(\"VectorizedT/\"+f,\"w\")\n",
        "    for seq in SeqIO.parse(\"Transformed/\"+f, \"fasta\"):\n",
        "      if(len(seq.seq)>= 3):\n",
        "          try:\n",
        "            array1 = sum(pv.to_vecs(seq.seq))\n",
        "            c = str(np.array(array1).tolist())\n",
        "            c = c.replace(\"[\",\"\").replace(\"]\",\"\").replace(\", \",\";\")\n",
        "            file.write(seq.id.split(\"@\")[1].replace(',','.')+\";\"+c)\n",
        "            file.flush()\n",
        "            file.write('\\n')\n",
        "          except:\n",
        "            print(\"error\")\n"
      ],
      "execution_count": 0,
      "outputs": []
    },
    {
      "cell_type": "code",
      "metadata": {
        "id": "qsmn0G4kbgOl",
        "colab_type": "code",
        "colab": {}
      },
      "source": [
        "import os\n",
        "allData = open('allData.fasta','w')\n",
        "for f in os.listdir('Transformed'):\n",
        "  for line in open('Transformed/'+f):\n",
        "    allData.writelines(line)\n",
        "    allData.flush()"
      ],
      "execution_count": 0,
      "outputs": []
    },
    {
      "cell_type": "code",
      "metadata": {
        "id": "6QO-sqETCzYj",
        "colab_type": "code",
        "colab": {}
      },
      "source": [
        "import pandas as pd\n",
        "import numpy as np\n",
        "from keras.models import Sequential\n",
        "from keras.layers import *\n",
        "from sklearn.pipeline import Pipeline\n",
        "from sklearn.metrics import *\n",
        "import sklearn as sk\n",
        "import numpy\n",
        "import os\n",
        "from keras.wrappers.scikit_learn import KerasRegressor\n",
        "from sklearn.model_selection import cross_val_score\n",
        "from sklearn.model_selection import KFold\n",
        "from matplotlib import pyplot as plt\n",
        "def coeff_determination(y_true, y_pred):\n",
        "    from keras import backend as K\n",
        "    SS_res =  K.sum(K.square( y_true-y_pred ))\n",
        "    SS_tot = K.sum(K.square( y_true - K.mean(y_true) ) )\n",
        "    return ( 1 - SS_res/(SS_tot) )\n",
        "import numpy as np\n",
        "def loss_new(y_true, y_pred,y_train):\n",
        "    return 1 / coeff_determination(y_true, y_pred)\n",
        "datasett=pd.read_csv('VectorizedT/IGC50Train.txt', delimiter=';')\n",
        "X_train = datasett.iloc[:, 1:1025].values\n",
        "y_train = datasett.iloc[:, 0].values\n",
        "dataset = pd.read_csv('VectorizedT/IG50Test.txt',delimiter=';')\n",
        "X_test = dataset.iloc[:, 1:1025].values\n",
        "y_test = dataset.iloc[:, 0].values\n",
        "from sklearn.preprocessing import StandardScaler\n",
        "X_train = X_train.reshape(len(X_train),32,32,1)\n",
        "X_test = X_test.reshape(len(X_test),32,32,1)\n",
        "model= Sequential()\n",
        "model.add(Conv2D(256,(2,2),padding='valid', activation='relu', input_shape=(32,32,1)))\n",
        "model.add(MaxPooling2D((2,2),strides=(2,2)))\n",
        "model.add(Flatten())\n",
        "model.add(Dropout(0.5))\n",
        "model.add(Dense(1))\n",
        "model.compile(loss=\"mse\", optimizer='adam',metrics=[coeff_determination,\"mae\"])\n",
        "model.summary()\n",
        "model.fit(X_train,y_train,batch_size=len(X_train),epochs=10,verbose=0)\n",
        "y_predtrain = model.predict(X_train)\n",
        "y_pred = model.predict(X_test)\n",
        "R2interne = r2_score(y_train,y_predtrain)\n",
        "print(\"R2 intern: \"+str(R2interne))\n",
        "scores = r2_score(y_test, y_pred)\n",
        "print(\"R2 extern:\"+ str(scores))\n",
        "R2all = (R2interne-scores)/R2interne\n",
        "print(\"Report R2:\"+str(R2all))\n",
        "print(\"MAE :\"+str(mean_absolute_error(y_test, y_pred)))\n",
        "print(\"RMSE :\"+str(np.sqrt(mean_squared_error(y_test, y_pred))))\n",
        "ypredicted = model.predict(X_test)\n",
        "print(ypredicted)"
      ],
      "execution_count": 0,
      "outputs": []
    },
    {
      "cell_type": "code",
      "metadata": {
        "id": "oQiPsROVYBAc",
        "colab_type": "code",
        "colab": {}
      },
      "source": [
        "from sklearn.ensemble import RandomForestRegressor\n",
        "datasett=pd.read_csv('VectorizedT/IGC50Train.txt', delimiter=';')\n",
        "X_train = datasett.iloc[:, 1:1025].values\n",
        "y_train = datasett.iloc[:, 0].values\n",
        "dataset = pd.read_csv('VectorizedT/IG50Test.txt',delimiter=';')\n",
        "X_test = dataset.iloc[:, 1:1025].values\n",
        "y_test = dataset.iloc[:, 0].values\n",
        "model= RandomForestRegressor(n_estimators=200, random_state=0)\n",
        "model.fit(X_train,y_train)\n",
        "y_predtrain = model.predict(X_train)\n",
        "R2interne = r2_score(y_train,y_predtrain)\n",
        "print(\"R2 intern: \"+str(R2interne))\n",
        "y_pred = model.predict(X_test)\n",
        "scores = r2_score(y_test, y_pred)\n",
        "print(\"R2 extern:\"+ str(scores))\n",
        "R2all = (R2interne-scores)/R2interne\n",
        "print(\"Report R2:\"+str(R2all))\n",
        "print(\"MAE :\"+str(mean_absolute_error(y_test, y_pred)))\n",
        "print(\"MSE: \"+str(mean_squared_error(y_test,y_pred)))\n"
      ],
      "execution_count": 0,
      "outputs": []
    },
    {
      "cell_type": "code",
      "metadata": {
        "id": "8p8s1LOXtpR1",
        "colab_type": "code",
        "colab": {}
      },
      "source": [
        "from sklearn.svm import SVR\n",
        "datasett=pd.read_csv('VectorizedT/IGC50Train.txt', delimiter=';')\n",
        "X_train = datasett.iloc[:, 1:1025].values\n",
        "y_train = datasett.iloc[:, 0].values\n",
        "dataset = pd.read_csv('VectorizedT/IG50Test.txt',delimiter=';')\n",
        "X_test = dataset.iloc[:, 1:1025].values\n",
        "y_test = dataset.iloc[:, 0].values\n",
        "model= SVR(gamma='scale', C=30.0, epsilon=0.2,verbose=1)\n",
        "model.fit(X_train,y_train)\n",
        "y_predtrain = model.predict(X_train)\n",
        "R2interne = r2_score(y_train,y_predtrain)\n",
        "print(\"R2 intern: \"+str(R2interne))\n",
        "y_pred = model.predict(X_test)\n",
        "scores = r2_score(y_test, y_pred)\n",
        "print(\"R2 extern:\"+ str(scores))\n",
        "R2all = (R2interne-scores)/R2interne\n",
        "print(\"Report R2:\"+str(R2all))\n",
        "print(\"MAE :\"+str(mean_absolute_error(y_test, y_pred)))\n",
        "print(\"MSE: \"+str(mean_squared_error(y_test,y_pred)))"
      ],
      "execution_count": 0,
      "outputs": []
    }
  ]
}